{
 "cells": [
  {
   "cell_type": "code",
   "execution_count": 4,
   "metadata": {},
   "outputs": [
    {
     "data": {
      "text/plain": [
       "(count: 49481, mean: 130.5757967704775, stdev: 3034.3540922940288, max: 439771.0, min: 1.0)"
      ]
     },
     "execution_count": 4,
     "metadata": {},
     "output_type": "execute_result"
    }
   ],
   "source": [
    "initRdd=sc.textFile('file:///E:/Eclipse_Android_workspaces/ApacheSpark/data/user_artist_data_small.txt')\n",
    "stats=initRdd.map(lambda x:float(x.split(\" \")[2])).stats()\n",
    "stats"
   ]
  },
  {
   "cell_type": "code",
   "execution_count": 10,
   "metadata": {},
   "outputs": [
    {
     "data": {
      "text/plain": [
       "[Rating(user=1059637, product=1000010, rating=238.0),\n",
       " Rating(user=1059637, product=1000112, rating=423.0),\n",
       " Rating(user=1059637, product=1000130, rating=19129.0),\n",
       " Rating(user=1059637, product=1000241, rating=188.0),\n",
       " Rating(user=1059637, product=1000263, rating=180.0),\n",
       " Rating(user=1059637, product=1000320, rating=21.0),\n",
       " Rating(user=1059637, product=1000427, rating=20.0),\n",
       " Rating(user=1059637, product=1000445, rating=88.0),\n",
       " Rating(user=1059637, product=1000632, rating=250.0),\n",
       " Rating(user=1059637, product=1000999, rating=22.0)]"
      ]
     },
     "execution_count": 10,
     "metadata": {},
     "output_type": "execute_result"
    }
   ],
   "source": [
    "from pyspark.mllib.recommendation import Rating,ALS\n",
    "uaData=initRdd.map(lambda x:x.split(\" \"))\\\n",
    "        .filter(lambda x:float(x[2])>=20)\\\n",
    "        .map(lambda x:Rating(x[0],x[1],x[2]))\n",
    "uaData.persist()\n",
    "uaData.take(10)"
   ]
  },
  {
   "cell_type": "code",
   "execution_count": 15,
   "metadata": {},
   "outputs": [
    {
     "data": {
      "text/plain": [
       "[Rating(user=1059637, product=1006123, rating=1.0228210788980996),\n",
       " Rating(user=1059637, product=1026440, rating=1.0046967390702561),\n",
       " Rating(user=1059637, product=1002095, rating=1.0001634234314223),\n",
       " Rating(user=1059637, product=1002128, rating=0.9845478195125716),\n",
       " Rating(user=1059637, product=1000130, rating=0.978224189766725)]"
      ]
     },
     "execution_count": 15,
     "metadata": {},
     "output_type": "execute_result"
    }
   ],
   "source": [
    "model=ALS.trainImplicit(uaData,10,5,0.01)\n",
    "recommendations=model.recommendProducts(1059637,5)\n",
    "recommendations"
   ]
  },
  {
   "cell_type": "code",
   "execution_count": 26,
   "metadata": {},
   "outputs": [
    {
     "name": "stdout",
     "output_type": "stream",
     "text": [
      "['Aerosmith']\n",
      "['Alkaline Trio']\n",
      "['Bright Eyes']\n",
      "['Jason Mraz']\n",
      "['Jimmy Eat World']\n",
      "['Hoobastank']\n",
      "['Goo Goo Dolls']\n",
      "['Modest Mouse']\n",
      "['Something Corporate']\n",
      "['Taking Back Sunday']\n",
      "['The Movielife']\n",
      "['Good Charlotte']\n",
      "['Nena']\n",
      "['Billy Joel']\n",
      "['Dashboard Confessional']\n",
      "['hellogoodbye']\n",
      "['Clint Mansell']\n",
      "['Brand New']\n",
      "['Thursday']\n",
      "['The Von Bondies']\n",
      "['Motion City Soundtrack']\n",
      "['Cursive']\n",
      "['Onelinedrawing']\n",
      "['A Static Lullaby']\n",
      "['Coheed and Cambria']\n",
      "['Further Seems Forever']\n",
      "['Hey Mercedes']\n",
      "['Hopesfall']\n",
      "['Underoath']\n",
      "['Hot Hot Heat']\n",
      "['Frou Frou']\n",
      "['Hanson']\n",
      "['Mae']\n",
      "['Against Me!']\n",
      "['Remy Zero']\n",
      "['Colin Hay']\n",
      "['Senses Fail']\n",
      "['Klaus Badelt']\n",
      "['Boys Night Out']\n",
      "['Dane Cook']\n",
      "['Fall Out Boy']\n",
      "['My Chemical Romance']\n",
      "['Story of the Year']\n",
      "['Blaque']\n",
      "['Say Anything']\n",
      "['Jonathan Larson']\n",
      "['A Trunk Full Of Dead Bodies']\n",
      "['Emocapella']\n",
      "['Hidden in Plain View']\n",
      "['Ryan Cabrera']\n",
      "['Coldplay']\n",
      "['Electric Light Orchestra']\n",
      "['Elliott Smith']\n",
      "['Head Automatica']\n",
      "['U2']\n",
      "['Ima Robot']\n",
      "['Beastie Boys']\n",
      "['The Early November']\n",
      "['The Postal Service']\n",
      "['The Rocket Summer']\n",
      "['The Decemberists']\n",
      "['The Shins']\n",
      "['Straylight Run']\n",
      "['The Format']\n",
      "['Ashlee Simpson']\n",
      "['Iron & Wine']\n",
      "['Perfect Endings']\n",
      "['Oasis']\n",
      "['Nightmare Of You']\n",
      "['The Killers']\n",
      "['Cary Brothers']\n",
      "[\"I Can Make a Mess Like Nobody's Business\"]\n",
      "['Zero 7']\n",
      "['Hawthorne Heights']\n",
      "['Thievery Corporation']\n",
      "['Summit Drive']\n",
      "['Matthew Walker']\n",
      "['Nick Drake']\n",
      "['Death Cab for Cutie']\n",
      "['Lou Reed']\n",
      "['Green Day']\n",
      "['Simon & Garfunkel']\n",
      "['The Smiths']\n",
      "['Less Than Jake']\n",
      "['Bonnie Somerville']\n",
      "['Domestic Disturbance']\n",
      "['The NSG']\n"
     ]
    }
   ],
   "source": [
    "user=1059637\n",
    "userArtists=initRdd.map(lambda x:x.split(\" \")).filter(lambda x:int(x[0])==user and int(x[2])>50).map(lambda x:x[1])\n",
    "artists=sc.textFile(\"file:///E:/Eclipse_Android_workspaces/ApacheSpark/data/artist_data_small.txt\").map(lambda x:x.split(\"\\t\"))\n",
    "for artist in userArtists.collect():\n",
    "    print(artists.lookup(artist))"
   ]
  },
  {
   "cell_type": "code",
   "execution_count": 29,
   "metadata": {},
   "outputs": [
    {
     "name": "stdout",
     "output_type": "stream",
     "text": [
      "['Cursive']\n",
      "['My Chemical Romance']\n",
      "['Something Corporate']\n",
      "['Taking Back Sunday']\n",
      "['Bright Eyes']\n"
     ]
    }
   ],
   "source": [
    "for rate in recommendations:\n",
    "    print(artists.lookup(str(rate.product)))"
   ]
  }
 ],
 "metadata": {
  "kernelspec": {
   "display_name": "Python 3",
   "language": "python",
   "name": "python3"
  },
  "language_info": {
   "codemirror_mode": {
    "name": "ipython",
    "version": 3
   },
   "file_extension": ".py",
   "mimetype": "text/x-python",
   "name": "python",
   "nbconvert_exporter": "python",
   "pygments_lexer": "ipython3",
   "version": "3.6.2"
  }
 },
 "nbformat": 4,
 "nbformat_minor": 2
}
