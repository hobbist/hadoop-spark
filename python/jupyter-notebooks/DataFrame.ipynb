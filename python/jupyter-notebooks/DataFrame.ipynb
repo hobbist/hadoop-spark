{
 "cells": [
  {
   "cell_type": "code",
   "execution_count": 16,
   "metadata": {},
   "outputs": [],
   "source": [
    "from pyspark.sql import SQLContext,Row\n",
    "from pyspark.sql.types import StructType,StructField,IntegerType\n",
    "jsonData=sqlCtx.read.json(\"file:///E:/Eclipse_Android_workspaces/ApacheSpark/data/world_bank/world_bank.json\")"
   ]
  },
  {
   "cell_type": "code",
   "execution_count": 17,
   "metadata": {},
   "outputs": [
    {
     "data": {
      "text/plain": [
       "[Row(borrower='MINISTRY OF FINANCE AND ECONOMIC DEVEL', country_namecode='Tuvalu!$!TV'),\n",
       " Row(borrower='MINISTRY OF FINANCE', country_namecode='Kingdom of Lesotho!$!LS'),\n",
       " Row(borrower='MINISTRY OF FINANCE', country_namecode='Samoa!$!WS'),\n",
       " Row(borrower='MINISTRY OF FINANCE', country_namecode='Samoa!$!WS'),\n",
       " Row(borrower='MINISTRY OF FINANCE AND BUDGET (MFB)', country_namecode='Republic of Madagascar!$!MG'),\n",
       " Row(borrower='MINISTRY OF FINANCE', country_namecode='Kingdom of Morocco!$!MA'),\n",
       " Row(borrower='DEPARTMENT OF FINANCE', country_namecode='Pacific Islands!$!4P'),\n",
       " Row(borrower='MINISTRY OF FINANCE', country_namecode='Republic of Tajikistan!$!TJ'),\n",
       " Row(borrower='MINISTRY OF FINANCE', country_namecode='Republic of the Marshall Islands!$!MH'),\n",
       " Row(borrower='MINISTRY OF FINANCE', country_namecode='Republic of Tajikistan!$!TJ')]"
      ]
     },
     "execution_count": 17,
     "metadata": {},
     "output_type": "execute_result"
    }
   ],
   "source": [
    "sqlCtx.registerDataFrameAsTable(df=jsonData,tableName='jsonData')\n",
    "india=sqlCtx.sql(\"select borrower,country_namecode from jsonData where borrower like '%FINANCE%' limit 10\")\n",
    "india.collect()"
   ]
  },
  {
   "cell_type": "code",
   "execution_count": 22,
   "metadata": {},
   "outputs": [
    {
     "data": {
      "text/plain": [
       "[Row(column=1),\n",
       " Row(column=2),\n",
       " Row(column=3),\n",
       " Row(column=4),\n",
       " Row(column=5),\n",
       " Row(column=6),\n",
       " Row(column=7),\n",
       " Row(column=8),\n",
       " Row(column=9),\n",
       " Row(column=10)]"
      ]
     },
     "execution_count": 22,
     "metadata": {},
     "output_type": "execute_result"
    }
   ],
   "source": [
    "rdd=sc.parallelize([1,2,3,4,5,6,7,8,9,10])\n",
    "##schema=StructType([StructField('column',IntegerType(),False)])\n",
    "DF=sqlCtx.createDataFrame(rdd,IntegerType()).toDF('column')\n",
    "DF.collect()"
   ]
  }
 ],
 "metadata": {
  "kernelspec": {
   "display_name": "Python 3",
   "language": "python",
   "name": "python3"
  },
  "language_info": {
   "codemirror_mode": {
    "name": "ipython",
    "version": 3
   },
   "file_extension": ".py",
   "mimetype": "text/x-python",
   "name": "python",
   "nbconvert_exporter": "python",
   "pygments_lexer": "ipython3",
   "version": "3.6.2"
  }
 },
 "nbformat": 4,
 "nbformat_minor": 2
}
