{
 "cells": [
  {
   "cell_type": "code",
   "execution_count": 1,
   "metadata": {},
   "outputs": [],
   "source": [
    "from pyspark.mllib.recommendation import Rating,ALS\n",
    "data=sc.textFile(\"file:///E:/Kapil/software-study/Big_Data_NoSql/spark/spark-course/ml-100k/ml-100k/u.data\")\n",
    "ratings=data.map(lambda line:line.split()).map(lambda rec: Rating(int(rec[0]),int(rec[1]),float(rec[2]))).cache()"
   ]
  },
  {
   "cell_type": "code",
   "execution_count": 9,
   "metadata": {},
   "outputs": [
    {
     "name": "stdout",
     "output_type": "stream",
     "text": [
      "\n",
      "Loading movie names...\n",
      "\n",
      "Training recommendation model...\n"
     ]
    }
   ],
   "source": [
    "def loadMovieNames():\n",
    "    movieNames = {}\n",
    "    with open(\"E:/Kapil/software-study/Big_Data_NoSql/spark/spark-course/ml-100k/ml-100k/u.item\", encoding='ascii', errors=\"ignore\") as f:\n",
    "        for line in f:\n",
    "            fields = line.split('|')\n",
    "            movieNames[int(fields[0])] = fields[1]\n",
    "    return movieNames\n",
    "\n",
    "sc.setCheckpointDir('checkpoint')\n",
    "\n",
    "print(\"\\nLoading movie names...\")\n",
    "nameDict = loadMovieNames()\n",
    "print(\"\\nTraining recommendation model...\")\n",
    "rank = 10\n",
    "numIterations = 12\n",
    "model = ALS.train(ratings, rank, numIterations)"
   ]
  },
  {
   "cell_type": "code",
   "execution_count": 10,
   "metadata": {},
   "outputs": [
    {
     "name": "stdout",
     "output_type": "stream",
     "text": [
      "\n",
      "Ratings for user ID 0:\n",
      "Star Wars (1977): 5.0\n",
      "Empire Strikes Back, The (1980): 5.0\n",
      "Gone with the Wind (1939): 1.0\n",
      "\n",
      "Top 10 recommendations:\n",
      "Endless Summer 2, The (1994) score 7.945518220100231\n",
      "Fast, Cheap & Out of Control (1997) score 7.815050233957528\n",
      "Cement Garden, The (1993) score 7.422219564230295\n",
      "Mina Tannenbaum (1994) score 7.108713882006835\n",
      "Denise Calls Up (1995) score 7.051451932002861\n",
      "Ruby in Paradise (1993) score 6.654878302573527\n",
      "Promesse, La (1996) score 6.653468323611374\n",
      "Slingshot, The (1993) score 6.34962391840522\n",
      "Great Race, The (1965) score 6.340887562392576\n",
      "In the Line of Duty 2 (1987) score 6.308246465876117\n"
     ]
    }
   ],
   "source": [
    "userID = 0\n",
    "\n",
    "print(\"\\nRatings for user ID \" + str(userID) + \":\")\n",
    "userRatings = ratings.filter(lambda l: l[0] == userID)\n",
    "for rating in userRatings.collect():\n",
    "    print (nameDict[int(rating[1])] + \": \" + str(rating[2]))\n",
    "\n",
    "print(\"\\nTop 10 recommendations:\")\n",
    "recommendations = model.recommendProducts(userID, 10)\n",
    "for recommendation in recommendations:\n",
    "    print (nameDict[int(recommendation[1])] + \\\n",
    "        \" score \" + str(recommendation[2]))\n"
   ]
  }
 ],
 "metadata": {
  "kernelspec": {
   "display_name": "Python 3",
   "language": "python",
   "name": "python3"
  },
  "language_info": {
   "codemirror_mode": {
    "name": "ipython",
    "version": 3
   },
   "file_extension": ".py",
   "mimetype": "text/x-python",
   "name": "python",
   "nbconvert_exporter": "python",
   "pygments_lexer": "ipython3",
   "version": "3.6.2"
  }
 },
 "nbformat": 4,
 "nbformat_minor": 2
}
