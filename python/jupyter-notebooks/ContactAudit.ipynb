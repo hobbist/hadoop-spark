{
 "cells": [
  {
   "cell_type": "code",
   "execution_count": 73,
   "metadata": {},
   "outputs": [],
   "source": [
    "from datetime import datetime,timedelta\n",
    "from pyspark.sql import Row\n",
    "from pyspark.sql.window import Window\n",
    "from pyspark.sql.functions import lag ,when,array,lit,udf\n",
    "from pyspark.sql import Column\n",
    "from pyspark.sql.types import ArrayType,StringType,NullType\n",
    "\n",
    "##Dataframe UDF\n",
    "@udf(returnType=ArrayType(StringType()))\n",
    "def addValue(arr,elem):\n",
    "    if elem not in arr:\n",
    "        arr.append(elem)\n",
    "    return arr\n",
    "\n",
    "@udf(returnType=ArrayType(StringType()))\n",
    "def mergeArrays(arr1,arr2):\n",
    "    returnVal=[]\n",
    "    if arr1 != None:\n",
    "        returnVal.extend(arr1)\n",
    "    if arr2 != None:\n",
    "        returnVal.extend(arr2)\n",
    "    return returnVal\n",
    "\n",
    "@udf(returnType=ArrayType(StringType()))\n",
    "def getCurrentEnts(added,removed,previousEnts):\n",
    "    returnVal=[]\n",
    "    if added !=None:\n",
    "        returnVal.extend(added)\n",
    "    if previousEnts !=None:\n",
    "        if removed !=None:\n",
    "            returnVal.extend([elem for elem in previousEnts if elem not in removed])\n",
    "        else:\n",
    "            returnVal.extend(previousEnts)\n",
    "    return returnVal\n",
    "\n",
    "@udf(returnType=ArrayType(StringType()))\n",
    "def calculateRemovedEnts(added,removed):\n",
    "    return [ent for ent in removed if ent not in added]\n",
    "\n",
    "## functions used with rdd of dataframe\n",
    "def flatten(arr):\n",
    "    returnVal=[]\n",
    "    for a in arr:\n",
    "        if len(a)!=0:\n",
    "           returnVal.extend(a)\n",
    "    return returnVal\n",
    "\n",
    "def transform(row):\n",
    "    added=flatten(row['collect_set(added)'])\n",
    "    removed=flatten(row['collect_set(removed)'])\n",
    "    return Row(last_modified_date=row.last_modified_date,reason=row['max(reason)'],addedEnts=added,removedEnts=removed,updatedBy=row['max(updatedBy)'])"
   ]
  },
  {
   "cell_type": "code",
   "execution_count": 71,
   "metadata": {},
   "outputs": [
    {
     "data": {
      "text/plain": [
       "DataFrame[active: string, last_modified_date: timestamp, policy_id: string, reason: string, updatedBy: string]"
      ]
     },
     "execution_count": 71,
     "metadata": {},
     "output_type": "execute_result"
    }
   ],
   "source": [
    "#Data gathering either from database or anyother datasource\n",
    "dt=datetime.now()\n",
    "rdd=sc.parallelize([Row(last_modified_date=dt,policy_id='CR_1',active='N',reason='removed',updatedBy='system'),\n",
    "                    Row(last_modified_date=dt+timedelta(minutes=5),policy_id='CR_2',active='Y',reason='applied',updatedBy='kapil'),\n",
    "                    Row(last_modified_date=dt+timedelta(minutes=6),policy_id='CR_1',active='Y',reason='applied',updatedBy='amit'),\n",
    "                    Row(last_modified_date=dt+timedelta(minutes=6),policy_id='CR_1',active='N',reason='removed',updatedBy='amit'),\n",
    "                    Row(last_modified_date=dt+timedelta(minutes=6),policy_id='CR_1',active='N',reason='removed',updatedBy='kapil')])\n",
    "df=rdd.toDF()\n",
    "df.persist()"
   ]
  },
  {
   "cell_type": "code",
   "execution_count": 72,
   "metadata": {},
   "outputs": [
    {
     "data": {
      "text/plain": [
       "DataFrame[last_modified_date: timestamp, max(reason): string, max(updatedBy): string, collect_set(removed): array<array<string>>, collect_set(added): array<array<string>>]"
      ]
     },
     "execution_count": 72,
     "metadata": {},
     "output_type": "execute_result"
    }
   ],
   "source": [
    "windowSpec=Window.partitionBy().orderBy('last_modified_date')\n",
    "df=df.withColumn('added',array()).withColumn('removed',array())\n",
    "df=df.select(when(df.active=='Y',addValue(df.added,df.policy_id)).otherwise(df.added).alias('added'),\n",
    "             when(df.active=='N',addValue(df.removed,df.policy_id)).otherwise(df.removed).alias('removed'),\n",
    "             df.last_modified_date,df.policy_id,df.active,df.reason,df.updatedBy)\n",
    "df=df.groupBy(\"last_modified_date\").agg({\"added\":\"collect_set\",\"removed\":\"collect_set\",\"reason\":\"max\",\"updatedBy\":\"max\"}).orderBy(df.last_modified_date)\n",
    "df.persist()"
   ]
  },
  {
   "cell_type": "code",
   "execution_count": 75,
   "metadata": {},
   "outputs": [
    {
     "name": "stdout",
     "output_type": "stream",
     "text": [
      "+---------+--------------------+-------+-----------+---------+------------+\n",
      "|addedEnts|  last_modified_date| reason|removedEnts|updatedBy| currentEnts|\n",
      "+---------+--------------------+-------+-----------+---------+------------+\n",
      "|       []|2018-07-31 21:47:...|removed|     [CR_1]|   system|          []|\n",
      "|   [CR_2]|2018-07-31 21:52:...|applied|         []|    kapil|      [CR_2]|\n",
      "|   [CR_1]|2018-07-31 21:53:...|removed|         []|    kapil|[CR_1, CR_2]|\n",
      "+---------+--------------------+-------+-----------+---------+------------+\n",
      "\n"
     ]
    }
   ],
   "source": [
    "##mapping removed and added array flatten\n",
    "dffinal=df.rdd.map(transform).toDF()\n",
    "dffinal=dffinal.withColumn('removedEnts',calculateRemovedEnts(dffinal.addedEnts.astype(ArrayType(StringType())),dffinal.removedEnts.astype(ArrayType(StringType()))))\n",
    "dffinal=dffinal.withColumn('currentEnts',dffinal.addedEnts)\n",
    "dffinal=dffinal.withColumn('currentEnts',getCurrentEnts(dffinal.addedEnts.astype(ArrayType(StringType())),dffinal.removedEnts.astype(ArrayType(StringType())),lag('currentEnts').over(windowSpec)))\n",
    "dffinal.show()"
   ]
  }
 ],
 "metadata": {
  "kernelspec": {
   "display_name": "Python 3",
   "language": "python",
   "name": "python3"
  },
  "language_info": {
   "codemirror_mode": {
    "name": "ipython",
    "version": 3
   },
   "file_extension": ".py",
   "mimetype": "text/x-python",
   "name": "python",
   "nbconvert_exporter": "python",
   "pygments_lexer": "ipython3",
   "version": "3.6.2"
  }
 },
 "nbformat": 4,
 "nbformat_minor": 2
}
