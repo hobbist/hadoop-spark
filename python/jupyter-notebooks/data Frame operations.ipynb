{
 "cells": [
  {
   "cell_type": "code",
   "execution_count": 6,
   "metadata": {},
   "outputs": [],
   "source": [
    "from pyspark.sql import Row\n",
    "def returnRow(line):\n",
    "    fields=line.split(\",\")\n",
    "    return Row(ID=int(fields[0]),name=str(fields[1].encode(\"UTF-8\")),age=int(fields[2]),numFriends=int(fields[3]))\n",
    "rdd=sc.textFile(\"file:///E:/Kapil/software-study/Big_Data_NoSql/spark/spark-course/fakefriends.csv\")\n",
    "df=rdd.map(returnRow)\n",
    "df=sqlCtx.createDataFrame(df)\n",
    "df.cache()\n",
    "df.createOrReplaceTempView(\"people\")"
   ]
  },
  {
   "cell_type": "code",
   "execution_count": 7,
   "metadata": {},
   "outputs": [
    {
     "name": "stdout",
     "output_type": "stream",
     "text": [
      "+---+---+----------+----------+\n",
      "| ID|age|      name|numFriends|\n",
      "+---+---+----------+----------+\n",
      "| 21| 19|  b'Miles'|       268|\n",
      "| 52| 19|b'Beverly'|       269|\n",
      "+---+---+----------+----------+\n",
      "only showing top 2 rows\n",
      "\n"
     ]
    }
   ],
   "source": [
    "teenagers=sqlContext.sql(\"SELECT * FROM people WHERE age >= 13 AND age <= 19\")\n",
    "teenagers.show(2)"
   ]
  },
  {
   "cell_type": "code",
   "execution_count": 8,
   "metadata": {},
   "outputs": [
    {
     "name": "stdout",
     "output_type": "stream",
     "text": [
      "+---+-----+\n",
      "|age|count|\n",
      "+---+-----+\n",
      "| 18|    8|\n",
      "| 19|   11|\n",
      "| 20|    5|\n",
      "| 21|    8|\n",
      "| 22|    7|\n",
      "| 23|   10|\n",
      "| 24|    5|\n",
      "| 25|   11|\n",
      "| 26|   17|\n",
      "| 27|    8|\n",
      "| 28|   10|\n",
      "| 29|   12|\n",
      "| 30|   11|\n",
      "| 31|    8|\n",
      "| 32|   11|\n",
      "| 33|   12|\n",
      "| 34|    6|\n",
      "| 35|    8|\n",
      "| 36|   10|\n",
      "| 37|    9|\n",
      "+---+-----+\n",
      "only showing top 20 rows\n",
      "\n"
     ]
    }
   ],
   "source": [
    "df.groupBy(\"age\").count().orderBy(\"age\").show()"
   ]
  },
  {
   "cell_type": "code",
   "execution_count": 20,
   "metadata": {},
   "outputs": [
    {
     "data": {
      "text/plain": [
       "DataFrame[movieId: bigint, movieName: string]"
      ]
     },
     "execution_count": 20,
     "metadata": {},
     "output_type": "execute_result"
    }
   ],
   "source": [
    "def loadMovieNames():\n",
    "    movieNamesRows = []\n",
    "    with open(\"E:/Kapil/software-study/Big_Data_NoSql/spark/spark-course/ml-100k/ml-100k/u.item\") as f:\n",
    "        for line in f:\n",
    "            fields = line.split('|')\n",
    "            movieNamesRows.append(Row(movieId=int(fields[0]),movieName=fields[1]))\n",
    "    return movieNamesRows\n",
    "\n",
    "def returnMovieRow(line):\n",
    "    fields=line.split()\n",
    "    return Row(userId=int(fields[0]),movieId=int(fields[1]),timestamp=int(fields[2]))\n",
    "\n",
    "movieNameRdd = sc.parallelize(loadMovieNames())\n",
    "rdd = sc.textFile(\"file:///E:/Kapil/software-study/Big_Data_NoSql/spark/spark-course/ml-100k/ml-100k/u.data\")\n",
    "rows=rdd.map(returnMovieRow)\n",
    "movieDF=sqlContext.createDataFrame(rows)\n",
    "movieDF.createOrReplaceTempView(\"movieRatings\")\n",
    "movieDF.cache()\n",
    "movieNameDF=sqlContext.createDataFrame(movieNameRdd)\n",
    "movieNameDF.createOrReplaceTempView(\"movieNames\")\n",
    "movieNameDF.cache()                "
   ]
  },
  {
   "cell_type": "code",
   "execution_count": 30,
   "metadata": {},
   "outputs": [
    {
     "name": "stdout",
     "output_type": "stream",
     "text": [
      "+--------------------+-----+\n",
      "|           movieName|count|\n",
      "+--------------------+-----+\n",
      "|    Star Wars (1977)|  583|\n",
      "|      Contact (1997)|  509|\n",
      "|        Fargo (1996)|  508|\n",
      "|Return of the Jed...|  507|\n",
      "|    Liar Liar (1997)|  485|\n",
      "|English Patient, ...|  481|\n",
      "|       Scream (1996)|  478|\n",
      "|    Toy Story (1995)|  452|\n",
      "|Air Force One (1997)|  431|\n",
      "|Independence Day ...|  429|\n",
      "|Raiders of the Lo...|  420|\n",
      "|Godfather, The (1...|  413|\n",
      "| Pulp Fiction (1994)|  394|\n",
      "|Twelve Monkeys (1...|  392|\n",
      "|Silence of the La...|  390|\n",
      "|Jerry Maguire (1996)|  384|\n",
      "|  Chasing Amy (1997)|  379|\n",
      "|    Rock, The (1996)|  378|\n",
      "|Empire Strikes Ba...|  367|\n",
      "|Star Trek: First ...|  365|\n",
      "+--------------------+-----+\n",
      "only showing top 20 rows\n",
      "\n"
     ]
    }
   ],
   "source": [
    "joined=movieDF.join(movieNameDF,movieDF.movieId==movieNameDF.movieId)\n",
    "joined.groupBy(\"movieName\").count().orderBy(\"count\",ascending=False).show()"
   ]
  }
 ],
 "metadata": {
  "kernelspec": {
   "display_name": "Python 3",
   "language": "python",
   "name": "python3"
  },
  "language_info": {
   "codemirror_mode": {
    "name": "ipython",
    "version": 3
   },
   "file_extension": ".py",
   "mimetype": "text/x-python",
   "name": "python",
   "nbconvert_exporter": "python",
   "pygments_lexer": "ipython3",
   "version": "3.6.2"
  }
 },
 "nbformat": 4,
 "nbformat_minor": 2
}
