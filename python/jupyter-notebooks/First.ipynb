{
 "cells": [
  {
   "cell_type": "code",
   "execution_count": 1,
   "metadata": {},
   "outputs": [],
   "source": [
    "flights=sc.textFile(\"file:///E:/Eclipse_Android_workspaces/ApacheSpark/data/FlightsData/flights.csv\")\n",
    "airlines=sc.textFile(\"file:///E:/Eclipse_Android_workspaces/ApacheSpark/data/FlightsData/airlines.csv\")\n",
    "airports=sc.textFile(\"file:///E:/Eclipse_Android_workspaces/ApacheSpark/data/FlightsData/airports.csv\")"
   ]
  },
  {
   "cell_type": "code",
   "execution_count": 2,
   "metadata": {},
   "outputs": [
    {
     "name": "stdout",
     "output_type": "stream",
     "text": [
      "from builtins import property as _property, tuple as _tuple\n",
      "from operator import itemgetter as _itemgetter\n",
      "from collections import OrderedDict\n",
      "\n",
      "class Flight(tuple):\n",
      "    'Flight(date, airline, flightnum, origin, dest, dep, dep_delay, arv, arv_delay, airtime, distance)'\n",
      "\n",
      "    __slots__ = ()\n",
      "\n",
      "    _fields = ('date', 'airline', 'flightnum', 'origin', 'dest', 'dep', 'dep_delay', 'arv', 'arv_delay', 'airtime', 'distance')\n",
      "\n",
      "    def __new__(_cls, date, airline, flightnum, origin, dest, dep, dep_delay, arv, arv_delay, airtime, distance):\n",
      "        'Create new instance of Flight(date, airline, flightnum, origin, dest, dep, dep_delay, arv, arv_delay, airtime, distance)'\n",
      "        return _tuple.__new__(_cls, (date, airline, flightnum, origin, dest, dep, dep_delay, arv, arv_delay, airtime, distance))\n",
      "\n",
      "    @classmethod\n",
      "    def _make(cls, iterable, new=tuple.__new__, len=len):\n",
      "        'Make a new Flight object from a sequence or iterable'\n",
      "        result = new(cls, iterable)\n",
      "        if len(result) != 11:\n",
      "            raise TypeError('Expected 11 arguments, got %d' % len(result))\n",
      "        return result\n",
      "\n",
      "    def _replace(_self, **kwds):\n",
      "        'Return a new Flight object replacing specified fields with new values'\n",
      "        result = _self._make(map(kwds.pop, ('date', 'airline', 'flightnum', 'origin', 'dest', 'dep', 'dep_delay', 'arv', 'arv_delay', 'airtime', 'distance'), _self))\n",
      "        if kwds:\n",
      "            raise ValueError('Got unexpected field names: %r' % list(kwds))\n",
      "        return result\n",
      "\n",
      "    def __repr__(self):\n",
      "        'Return a nicely formatted representation string'\n",
      "        return self.__class__.__name__ + '(date=%r, airline=%r, flightnum=%r, origin=%r, dest=%r, dep=%r, dep_delay=%r, arv=%r, arv_delay=%r, airtime=%r, distance=%r)' % self\n",
      "\n",
      "    def _asdict(self):\n",
      "        'Return a new OrderedDict which maps field names to their values.'\n",
      "        return OrderedDict(zip(self._fields, self))\n",
      "\n",
      "    def __getnewargs__(self):\n",
      "        'Return self as a plain tuple.  Used by copy and pickle.'\n",
      "        return tuple(self)\n",
      "\n",
      "    date = _property(_itemgetter(0), doc='Alias for field number 0')\n",
      "\n",
      "    airline = _property(_itemgetter(1), doc='Alias for field number 1')\n",
      "\n",
      "    flightnum = _property(_itemgetter(2), doc='Alias for field number 2')\n",
      "\n",
      "    origin = _property(_itemgetter(3), doc='Alias for field number 3')\n",
      "\n",
      "    dest = _property(_itemgetter(4), doc='Alias for field number 4')\n",
      "\n",
      "    dep = _property(_itemgetter(5), doc='Alias for field number 5')\n",
      "\n",
      "    dep_delay = _property(_itemgetter(6), doc='Alias for field number 6')\n",
      "\n",
      "    arv = _property(_itemgetter(7), doc='Alias for field number 7')\n",
      "\n",
      "    arv_delay = _property(_itemgetter(8), doc='Alias for field number 8')\n",
      "\n",
      "    airtime = _property(_itemgetter(9), doc='Alias for field number 9')\n",
      "\n",
      "    distance = _property(_itemgetter(10), doc='Alias for field number 10')\n",
      "\n",
      "\n"
     ]
    }
   ],
   "source": [
    "from datetime import datetime\n",
    "from collections import namedtuple\n",
    "fields=('date','airline','flightnum','origin','dest','dep','dep_delay','arv','arv_delay','airtime','distance')\n",
    "Flight=namedtuple('Flight',fields,verbose=True)\n",
    "DATE_FMT=\"%Y-%m-%d\"\n",
    "TIME_FMT=\"%H%M\"\n",
    "def parse(row):\n",
    "    row[0]=datetime.strptime(row[0],DATE_FMT).date()\n",
    "    row[5]=datetime.strptime(row[5],TIME_FMT).time()\n",
    "    row[6]=float(row[6])\n",
    "    row[7]=datetime.strptime(row[7],TIME_FMT).time()\n",
    "    row[8]=float(row[8])\n",
    "    row[9]=float(row[9])\n",
    "    row[10]=float(row[10])\n",
    "    return Flight(*row[:11])"
   ]
  },
  {
   "cell_type": "code",
   "execution_count": 3,
   "metadata": {},
   "outputs": [],
   "source": [
    "flightsParsed=flights.map(lambda x:x.split(',')).map(parse)"
   ]
  },
  {
   "cell_type": "code",
   "execution_count": 4,
   "metadata": {},
   "outputs": [
    {
     "data": {
      "text/plain": [
       "PythonRDD[6] at RDD at PythonRDD.scala:48"
      ]
     },
     "execution_count": 4,
     "metadata": {},
     "output_type": "execute_result"
    }
   ],
   "source": [
    "flightsParsed.persist()"
   ]
  },
  {
   "cell_type": "code",
   "execution_count": 5,
   "metadata": {},
   "outputs": [],
   "source": [
    "totalDistance=flightsParsed.map(lambda x:x.distance).reduce(lambda x,y:x+y)"
   ]
  },
  {
   "cell_type": "code",
   "execution_count": 6,
   "metadata": {},
   "outputs": [
    {
     "data": {
      "text/plain": [
       "794.8585013871385"
      ]
     },
     "execution_count": 6,
     "metadata": {},
     "output_type": "execute_result"
    }
   ],
   "source": [
    "totalDistance/flightsParsed.count()"
   ]
  },
  {
   "cell_type": "code",
   "execution_count": 7,
   "metadata": {},
   "outputs": [
    {
     "data": {
      "text/plain": [
       "37.53871510922012"
      ]
     },
     "execution_count": 7,
     "metadata": {},
     "output_type": "execute_result"
    }
   ],
   "source": [
    "(flightsParsed.filter(lambda x:x.dep_delay>0).count()/flightsParsed.count())*100"
   ]
  },
  {
   "cell_type": "code",
   "execution_count": 8,
   "metadata": {},
   "outputs": [
    {
     "data": {
      "text/plain": [
       "8.313877046894298"
      ]
     },
     "execution_count": 8,
     "metadata": {},
     "output_type": "execute_result"
    }
   ],
   "source": [
    "sumCount=flightsParsed.map(lambda x:x.dep_delay).aggregate((0,0),\n",
    "                                                           (lambda acc,value:(acc[0]+value,acc[1]+1)),\n",
    "                                                           (lambda acc1,acc2:(acc1[0]+acc2[0],acc1[1]+acc2[1])))\n",
    "sumCount[0]/sumCount[1]"
   ]
  },
  {
   "cell_type": "code",
   "execution_count": 9,
   "metadata": {},
   "outputs": [
    {
     "data": {
      "text/plain": [
       "defaultdict(int,\n",
       "            {0: 452963,\n",
       "             1: 16016,\n",
       "             2: 4893,\n",
       "             3: 1729,\n",
       "             4: 701,\n",
       "             5: 249,\n",
       "             6: 113,\n",
       "             7: 66,\n",
       "             8: 43,\n",
       "             9: 26,\n",
       "             10: 15,\n",
       "             11: 12,\n",
       "             12: 9,\n",
       "             13: 15,\n",
       "             14: 13,\n",
       "             15: 4,\n",
       "             17: 2,\n",
       "             20: 4,\n",
       "             21: 3,\n",
       "             24: 3,\n",
       "             25: 1,\n",
       "             28: 1})"
      ]
     },
     "execution_count": 9,
     "metadata": {},
     "output_type": "execute_result"
    }
   ],
   "source": [
    "delays=flightsParsed.map(lambda x:int(x.dep_delay/60)).countByValue()\n",
    "delays"
   ]
  },
  {
   "cell_type": "code",
   "execution_count": 10,
   "metadata": {},
   "outputs": [
    {
     "data": {
      "text/plain": [
       "Flight(date=datetime.date(2014, 4, 1), airline='19805', flightnum='1', origin='JFK', dest='LAX', dep=datetime.time(8, 54), dep_delay=-6.0, arv=datetime.time(12, 17), arv_delay=2.0, airtime=355.0, distance=2475.0)"
      ]
     },
     "execution_count": 10,
     "metadata": {},
     "output_type": "execute_result"
    }
   ],
   "source": [
    "flightsParsed.first()"
   ]
  },
  {
   "cell_type": "code",
   "execution_count": 11,
   "metadata": {},
   "outputs": [],
   "source": [
    "airportDelays=flightsParsed.map(lambda x:(x.origin,x.dep_delay))"
   ]
  },
  {
   "cell_type": "code",
   "execution_count": 24,
   "metadata": {},
   "outputs": [
    {
     "data": {
      "text/plain": [
       "[('LAX', 8.14151097554333),\n",
       " ('BOS', 5.324795523030564),\n",
       " ('SFO', 9.23209402025279),\n",
       " ('ATL', 8.471295966881206),\n",
       " ('DCA', 4.645011998628728)]"
      ]
     },
     "execution_count": 24,
     "metadata": {},
     "output_type": "execute_result"
    }
   ],
   "source": [
    "\"\"\"sumDelays=airportDelays.reduceByKey(lambda x,y:x+y)\n",
    "countDelays=airportDelays.mapValues(lambda x:1).reduceByKey(lambda x,y:x+y)\n",
    "avgProcess=sumDelays.join(countDelays)\n",
    "avg=avgProcess.mapValues(lambda x:x[0]/float(x[1]))\n",
    "avg.take(5)\"\"\""
   ]
  },
  {
   "cell_type": "code",
   "execution_count": 12,
   "metadata": {},
   "outputs": [
    {
     "data": {
      "text/plain": [
       "[('LAX', 8.14151097554333),\n",
       " ('BOS', 5.324795523030564),\n",
       " ('SFO', 9.23209402025279),\n",
       " ('ATL', 8.471295966881206),\n",
       " ('DCA', 4.645011998628728)]"
      ]
     },
     "execution_count": 12,
     "metadata": {},
     "output_type": "execute_result"
    }
   ],
   "source": [
    "airportSumCount=airportDelays.combineByKey((lambda value:(value,1)),\n",
    "                                          (lambda acc,value:(acc[0]+value,acc[1]+1)),\n",
    "                                           (lambda acc1,acc2:(acc1[0]+acc2[0],acc1[1]+acc2[1])))\n",
    "avg=airportSumCount.mapValues(lambda x:x[0]/float(x[1]))\n",
    "avg.take(5)"
   ]
  },
  {
   "cell_type": "code",
   "execution_count": 13,
   "metadata": {},
   "outputs": [
    {
     "data": {
      "text/plain": [
       "[('PPG', 56.25),\n",
       " ('EGE', 32.0),\n",
       " ('OTH', 24.533333333333335),\n",
       " ('LAR', 18.892857142857142),\n",
       " ('RDD', 18.55294117647059),\n",
       " ('MTJ', 18.363636363636363),\n",
       " ('PUB', 17.54),\n",
       " ('EWR', 16.478549005929544),\n",
       " ('CIC', 15.931034482758621),\n",
       " ('RST', 15.6993006993007)]"
      ]
     },
     "execution_count": 13,
     "metadata": {},
     "output_type": "execute_result"
    }
   ],
   "source": [
    "topAirports=avg.sortBy(lambda x:-x[1])\n",
    "topAirports.take(10)"
   ]
  },
  {
   "cell_type": "code",
   "execution_count": 26,
   "metadata": {},
   "outputs": [
    {
     "data": {
      "text/plain": [
       "['Los Angeles']"
      ]
     },
     "execution_count": 26,
     "metadata": {},
     "output_type": "execute_result"
    }
   ],
   "source": [
    "import csv\n",
    "def spilt(line):\n",
    "    line=line.replace(\"\\\"\",\"\")\n",
    "    splits=line.split(\",\")\n",
    "    return (splits[0],splits[1])\n",
    "def notHeader(row):\n",
    "    return \"Description\" not in row\n",
    "airportsRdd=airports.filter(notHeader).map(spilt)\n",
    "airportsRdd.lookup('LAX')"
   ]
  },
  {
   "cell_type": "code",
   "execution_count": 29,
   "metadata": {},
   "outputs": [
    {
     "data": {
      "text/plain": [
       "[('Pago Pago', 56.25),\n",
       " ('Eagle', 32.0),\n",
       " ('North Bend/Coos Bay', 24.533333333333335),\n",
       " ('Laramie', 18.892857142857142),\n",
       " ('Redding', 18.55294117647059),\n",
       " ('Montrose/Delta', 18.363636363636363),\n",
       " ('Pueblo', 17.54),\n",
       " ('Newark', 16.478549005929544),\n",
       " ('Chico', 15.931034482758621),\n",
       " ('Rochester', 15.6993006993007)]"
      ]
     },
     "execution_count": 29,
     "metadata": {},
     "output_type": "execute_result"
    }
   ],
   "source": [
    "##SPARK-5063 -we cannot use lookup inside transformation.\n",
    "##use broadcast variables instead\n",
    "##avgAirportDelaysDesc=avg.map(lambda x:(airportsRdd[x[0]],x[1]))\n",
    "airportsRddBc=sc.broadcast(airportsRdd.collectAsMap())\n",
    "airportsRddBc.value['LAX']\n",
    "avgAirportDelaysDesc=topAirports.map(lambda x:(airportsRddBc.value[x[0]],x[1]))\n",
    "avgAirportDelaysDesc.take(10)"
   ]
  }
 ],
 "metadata": {
  "kernelspec": {
   "display_name": "Python 3",
   "language": "python",
   "name": "python3"
  },
  "language_info": {
   "codemirror_mode": {
    "name": "ipython",
    "version": 3
   },
   "file_extension": ".py",
   "mimetype": "text/x-python",
   "name": "python",
   "nbconvert_exporter": "python",
   "pygments_lexer": "ipython3",
   "version": "3.6.2"
  }
 },
 "nbformat": 4,
 "nbformat_minor": 2
}
