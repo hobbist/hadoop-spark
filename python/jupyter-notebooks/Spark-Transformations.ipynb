{
 "cells": [
  {
   "cell_type": "code",
   "execution_count": 1,
   "metadata": {},
   "outputs": [
    {
     "data": {
      "text/plain": [
       "['M', 'N', 'I', 'K']"
      ]
     },
     "execution_count": 1,
     "metadata": {},
     "output_type": "execute_result"
    }
   ],
   "source": [
    "##Map Transformation\n",
    "rdd=sc.parallelize(['My','Name','Is','Kapil'])\n",
    "mapRdd=rdd.map(lambda x: x[0])\n",
    "mapRdd.collect()"
   ]
  },
  {
   "cell_type": "code",
   "execution_count": 2,
   "metadata": {},
   "outputs": [
    {
     "data": {
      "text/plain": [
       "['Is']"
      ]
     },
     "execution_count": 2,
     "metadata": {},
     "output_type": "execute_result"
    }
   ],
   "source": [
    "##Filter Transformation\n",
    "rdd=sc.parallelize(['My','Name','Is','Kapil'])\n",
    "filterRdd=rdd.filter(lambda x: x[0] in ('A','E','I','O','U'))\n",
    "filterRdd.collect()"
   ]
  },
  {
   "cell_type": "code",
   "execution_count": 3,
   "metadata": {},
   "outputs": [
    {
     "data": {
      "text/plain": [
       "['M', 'y', 'N', 'a', 'I', 's', 'K', 'a']"
      ]
     },
     "execution_count": 3,
     "metadata": {},
     "output_type": "execute_result"
    }
   ],
   "source": [
    "##FlatMap Transformation\n",
    "rdd=sc.parallelize(['My','Name','Is','Kapil'])\n",
    "flatMapRdd=rdd.flatMap(lambda x: (x[0],x[1]))\n",
    "flatMapRdd.collect()"
   ]
  },
  {
   "cell_type": "code",
   "execution_count": 6,
   "metadata": {},
   "outputs": [
    {
     "data": {
      "text/plain": [
       "[(0, [2, 4, 6, 8, 10]), (1, [1, 3, 5, 7, 9])]"
      ]
     },
     "execution_count": 6,
     "metadata": {},
     "output_type": "execute_result"
    }
   ],
   "source": [
    "##GroupBy Transformation\n",
    "rdd=sc.parallelize([1,2,3,4,5,6,7,8,9,10])\n",
    "groupRdd=rdd.groupBy(lambda x: x%2).mapValues(list)\n",
    "groupRdd.collect()"
   ]
  },
  {
   "cell_type": "code",
   "execution_count": 8,
   "metadata": {},
   "outputs": [
    {
     "data": {
      "text/plain": [
       "[('A', ['IR', 'TE']), ('E', ['AT', 'AR'])]"
      ]
     },
     "execution_count": 8,
     "metadata": {},
     "output_type": "execute_result"
    }
   ],
   "source": [
    "##GroupByKey\n",
    "rdd=sc.parallelize([('E','AT'),('E','AR'),('A','IR'),('A','TE')])\n",
    "groupByKeyRdd=rdd.groupByKey().mapValues(list)\n",
    "groupByKeyRdd.collect()"
   ]
  },
  {
   "cell_type": "code",
   "execution_count": 31,
   "metadata": {},
   "outputs": [
    {
     "name": "stdout",
     "output_type": "stream",
     "text": [
      "[[1, 2], [3, 4], [5, 6], [7, 8, 9, 10]]\n",
      "[[3], [7], [11], [34]]\n"
     ]
    }
   ],
   "source": [
    "##MapPartitions\n",
    "rdd=sc.parallelize([1,2,3,4,5,6,7,8,9,10],4)\n",
    "def f(iterator): yield sum(iterator);\n",
    "print(rdd.glom().collect())\n",
    "mapPartions=rdd.mapPartitions(f)\n",
    "print(mapPartions.glom().collect())"
   ]
  },
  {
   "cell_type": "code",
   "execution_count": 33,
   "metadata": {},
   "outputs": [
    {
     "name": "stdout",
     "output_type": "stream",
     "text": [
      "[[1, 2], [3, 4], [5, 6], [7, 8, 9, 10]]\n",
      "[[(0, 3)], [(1, 7)], [(2, 11)], [(3, 34)]]\n"
     ]
    }
   ],
   "source": [
    "##MapPartitionsWithIndex\n",
    "rdd=sc.parallelize([1,2,3,4,5,6,7,8,9,10],4)\n",
    "def f(partIndex,iterator): yield (partIndex,sum(iterator));\n",
    "print(rdd.glom().collect())\n",
    "mapPartions=rdd.mapPartitionsWithIndex(f)\n",
    "print(mapPartions.glom().collect())"
   ]
  },
  {
   "cell_type": "code",
   "execution_count": 34,
   "metadata": {},
   "outputs": [
    {
     "data": {
      "text/plain": [
       "[1, 2, 3, 2, 3, 4]"
      ]
     },
     "execution_count": 34,
     "metadata": {},
     "output_type": "execute_result"
    }
   ],
   "source": [
    "##Union\n",
    "rdd1=sc.parallelize([1,2,3])\n",
    "rdd2=sc.parallelize([2,3,4])\n",
    "unionRdd=rdd1.union(rdd2)\n",
    "unionRdd.collect()"
   ]
  },
  {
   "cell_type": "code",
   "execution_count": 35,
   "metadata": {},
   "outputs": [
    {
     "data": {
      "text/plain": [
       "[(1, (1, 2)), (1, (1, 3)), (2, (2, 3))]"
      ]
     },
     "execution_count": 35,
     "metadata": {},
     "output_type": "execute_result"
    }
   ],
   "source": [
    "##Join-paired RDD operation\n",
    "x=sc.parallelize([(1,1),(2,2),(3,3)])\n",
    "y=sc.parallelize([(1,2),(1,3),(2,3)])\n",
    "z=x.join(y)\n",
    "z.collect()"
   ]
  },
  {
   "cell_type": "code",
   "execution_count": 43,
   "metadata": {},
   "outputs": [
    {
     "name": "stdout",
     "output_type": "stream",
     "text": [
      "[[1], [2], [3], [4]]\n",
      "[[1, 2], [3, 4]]\n"
     ]
    }
   ],
   "source": [
    "##coalesce\n",
    "x=sc.parallelize([1,2,3,4],4)\n",
    "print(x.glom().collect())\n",
    "y=x.coalesce(2,False)\n",
    "print(y.glom().collect())"
   ]
  },
  {
   "cell_type": "code",
   "execution_count": 3,
   "metadata": {},
   "outputs": [
    {
     "data": {
      "text/plain": [
       "[('Error', 'Error :Excpetion'),\n",
       " ('Success', 'Success :Complete'),\n",
       " ('Warning', 'Warning :Warn'),\n",
       " ('Success', 'Success :Complete')]"
      ]
     },
     "execution_count": 3,
     "metadata": {},
     "output_type": "execute_result"
    }
   ],
   "source": [
    "##KeyBy\n",
    "rdd=sc.parallelize(['Error :Excpetion','Success :Complete','Warning :Warn','Success :Complete'])\n",
    "keyByRdd=rdd.keyBy(lambda x:x.split()[0])\n",
    "keyByRdd.collect()\n",
    "##totalError=keyByRdd.countByKey()"
   ]
  },
  {
   "cell_type": "code",
   "execution_count": 58,
   "metadata": {},
   "outputs": [
    {
     "data": {
      "text/plain": [
       "defaultdict(int, {1: 3})"
      ]
     },
     "execution_count": 58,
     "metadata": {},
     "output_type": "execute_result"
    }
   ],
   "source": [
    "##countByValue\n",
    "rdd=sc.parallelize(range(1000))\n",
    "rdd.countApprox(500,1.0)\n",
    "rdd=sc.parallelize([1,1,1])\n",
    "rdd.countByValue()"
   ]
  }
 ],
 "metadata": {
  "kernelspec": {
   "display_name": "Python 3",
   "language": "python",
   "name": "python3"
  },
  "language_info": {
   "codemirror_mode": {
    "name": "ipython",
    "version": 3
   },
   "file_extension": ".py",
   "mimetype": "text/x-python",
   "name": "python",
   "nbconvert_exporter": "python",
   "pygments_lexer": "ipython3",
   "version": "3.6.2"
  }
 },
 "nbformat": 4,
 "nbformat_minor": 2
}
