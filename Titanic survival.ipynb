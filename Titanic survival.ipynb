{
 "cells": [
  {
   "cell_type": "code",
   "execution_count": 2,
   "metadata": {},
   "outputs": [],
   "source": [
    "data=sqlContext.read.csv('file:///home/kapil/Downloads/train.csv',header=True)\n"
   ]
  },
  {
   "cell_type": "code",
   "execution_count": 8,
   "metadata": {},
   "outputs": [
    {
     "name": "stdout",
     "output_type": "stream",
     "text": [
      "+-----------+--------+------+--------------------+------+---+-----+-----+----------------+-------+-----+--------+\n",
      "|PassengerId|Survived|Pclass|                Name|   Sex|Age|SibSp|Parch|          Ticket|   Fare|Cabin|Embarked|\n",
      "+-----------+--------+------+--------------------+------+---+-----+-----+----------------+-------+-----+--------+\n",
      "|          1|       0|     3|Braund, Mr. Owen ...|  male| 22|    1|    0|       A/5 21171|   7.25| null|       S|\n",
      "|          2|       1|     1|Cumings, Mrs. Joh...|female| 38|    1|    0|        PC 17599|71.2833|  C85|       C|\n",
      "|          3|       1|     3|Heikkinen, Miss. ...|female| 26|    0|    0|STON/O2. 3101282|  7.925| null|       S|\n",
      "+-----------+--------+------+--------------------+------+---+-----+-----+----------------+-------+-----+--------+\n",
      "only showing top 3 rows\n",
      "\n"
     ]
    }
   ],
   "source": [
    "data.show(3)"
   ]
  },
  {
   "cell_type": "code",
   "execution_count": 11,
   "metadata": {},
   "outputs": [
    {
     "name": "stdout",
     "output_type": "stream",
     "text": [
      "+------+------+---+-----+--------+\n",
      "|Pclass|   Sex|Age|Cabin|Embarked|\n",
      "+------+------+---+-----+--------+\n",
      "|     3|  male| 22| null|       S|\n",
      "|     1|female| 38|  C85|       C|\n",
      "+------+------+---+-----+--------+\n",
      "only showing top 2 rows\n",
      "\n"
     ]
    }
   ],
   "source": [
    "\n",
    "labels=data.select('Survived')\n",
    "features=data.select(['Pclass','Sex','Age','Cabin','Embarked'])"
   ]
  },
  {
   "cell_type": "code",
   "execution_count": 46,
   "metadata": {},
   "outputs": [
    {
     "data": {
      "text/plain": [
       "[StringIndexer_438381bc6f4912cae65c,\n",
       " StringIndexer_4110973dcad52f87909e,\n",
       " StringIndexer_4f68afdf6f43b9957722,\n",
       " StringIndexer_4a56b8cdefc7cbdec0c6,\n",
       " StringIndexer_4c0aaa9f32f095fea3db,\n",
       " StringIndexer_4cec9027ed8dd3046b22,\n",
       " StringIndexer_4b6fa5955cbc658c812c,\n",
       " StringIndexer_40d9a22f12771bd641b8,\n",
       " StringIndexer_40e29ecfaae6ed93c094,\n",
       " StringIndexer_4876ba5434d993fd3fe2,\n",
       " StringIndexer_4f13a9239cc4ac8ee182,\n",
       " StringIndexer_47b08a22d2792feafd48]"
      ]
     },
     "execution_count": 46,
     "metadata": {},
     "output_type": "execute_result"
    }
   ],
   "source": [
    "from pyspark.ml.classification import RandomForestClassifier\n",
    "from pyspark.ml.feature import StringIndexer,VectorIndexer\n",
    "labelIndexer = StringIndexer(inputCol=\"Survived\", outputCol=\"indexedLabel\").fit(data)\n",
    "featureIndexer=[StringIndexer(inputCol=c,outputCol=\"Feature\") for c in data.columns]\n",
    "\n",
    "vector=[c.fit(data) for c in featureIndexer]\n",
    "strInds=vector[0]\n"
   ]
  },
  {
   "cell_type": "code",
   "execution_count": null,
   "metadata": {},
   "outputs": [],
   "source": []
  }
 ],
 "metadata": {
  "kernelspec": {
   "display_name": "Python 3",
   "language": "python",
   "name": "python3"
  },
  "language_info": {
   "codemirror_mode": {
    "name": "ipython",
    "version": 3
   },
   "file_extension": ".py",
   "mimetype": "text/x-python",
   "name": "python",
   "nbconvert_exporter": "python",
   "pygments_lexer": "ipython3",
   "version": "3.5.2"
  }
 },
 "nbformat": 4,
 "nbformat_minor": 2
}
