{
 "cells": [
  {
   "cell_type": "code",
   "execution_count": 14,
   "metadata": {},
   "outputs": [],
   "source": [
    "##CONVERTING ANY DATA EXTRACTED TO JSON AND SAVING TO FILE\n",
    "from pyspark.sql import Row\n",
    "import json\n",
    "import os\n",
    "import shutil\n",
    "##DATA EXTRACTION- MIMICKED AS ROW OBJECTS\n",
    "df=sc.parallelize([Row(id=123,name='kapil',addressId=1,addressStr='A-1',phoneId=1,phoneNum=12345),\n",
    "                   Row(id=124,name='Amit',addressId=1,addressStr='A-2',phoneId=1,phoneNum=12456),\n",
    "                   Row(id=125,name='Anuja',addressId=1,addressStr='A-3',phoneId=1,phoneNum=12577)])\n",
    "\n",
    "## TRANSFORMER FUNCTION CONVERTING DATA TO JSON STRING\n",
    "def createMemberJson(row):\n",
    "    return json.loads('{\"Member\":{\"MemberId\":'+str(row.id)+',\"Name\":\"'+row.name+'\",\"Address\":{\"AddressId\":'+str(row.addressId)+',\"AddressString\":\"'+row.addressStr+'\"}}}')\n",
    "##TRANSFORMATION\n",
    "memberRdd=df.map(createMemberJson)\n",
    "if(os.path.exists('/home/kapil/software-apps/input-files/members.json')):\n",
    "    shutil.rmtree('/home/kapil/software-apps/input-files/members.json')\n",
    "\n",
    "## SAVING TO FILE/DATA SOURCE    \n",
    "memberRdd.saveAsTextFile('/home/kapil/software-apps/input-files/members.json')"
   ]
  }
 ],
 "metadata": {
  "kernelspec": {
   "display_name": "Python 3",
   "language": "python",
   "name": "python3"
  },
  "language_info": {
   "codemirror_mode": {
    "name": "ipython",
    "version": 3
   },
   "file_extension": ".py",
   "mimetype": "text/x-python",
   "name": "python",
   "nbconvert_exporter": "python",
   "pygments_lexer": "ipython3",
   "version": "3.5.2"
  }
 },
 "nbformat": 4,
 "nbformat_minor": 2
}
