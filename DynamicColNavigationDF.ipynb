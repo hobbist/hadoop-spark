{
 "cells": [
  {
   "cell_type": "code",
   "execution_count": 104,
   "metadata": {},
   "outputs": [],
   "source": [
    "df=sqlContext.read.csv(\"file:///E:/Kapil/software-study/Big_Data_NoSql/spark/spark-course/fakefriendsHeaders.csv\",header=True,inferSchema=True)"
   ]
  },
  {
   "cell_type": "code",
   "execution_count": 103,
   "metadata": {},
   "outputs": [],
   "source": [
    "def getRecordCount(df,columnPrefix):\n",
    "    ##foreach row in dataframe\n",
    "    def forEachFunction(row):\n",
    "        rowColumnCounter=0\n",
    "        for rowColumn in dfColumns:\n",
    "            if(row[rowColumn] is not None):\n",
    "                if rowColumnCounter==0:\n",
    "                    rowColumnCounter=rowColumnCounter+1\n",
    "        tableAccumulator.add(rowColumnCounter)\n",
    "    \n",
    "    dfColumns=[column for column in df.columns if column.startswith(columnPrefix)]\n",
    "    tableAccumulator=sc.accumulator(0)\n",
    "    selectedDf=df.select(dfColumns)\n",
    "    selectedDf.foreach(forEachFunction)\n",
    "    return tableAccumulator.value"
   ]
  },
  {
   "cell_type": "code",
   "execution_count": 105,
   "metadata": {},
   "outputs": [
    {
     "data": {
      "text/plain": [
       "499"
      ]
     },
     "execution_count": 105,
     "metadata": {},
     "output_type": "execute_result"
    }
   ],
   "source": [
    "getRecordCount(df,'TEST')"
   ]
  }
 ],
 "metadata": {
  "kernelspec": {
   "display_name": "Python 3",
   "language": "python",
   "name": "python3"
  },
  "language_info": {
   "codemirror_mode": {
    "name": "ipython",
    "version": 3
   },
   "file_extension": ".py",
   "mimetype": "text/x-python",
   "name": "python",
   "nbconvert_exporter": "python",
   "pygments_lexer": "ipython3",
   "version": "3.6.2"
  }
 },
 "nbformat": 4,
 "nbformat_minor": 2
}
