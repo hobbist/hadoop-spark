{
 "cells": [
  {
   "cell_type": "code",
   "execution_count": 1,
   "metadata": {},
   "outputs": [],
   "source": [
    "logFile=sc.textFile(\"file:///E:/Eclipse_Android_workspaces/ApacheSpark/data/sample.log\")"
   ]
  },
  {
   "cell_type": "code",
   "execution_count": 6,
   "metadata": {},
   "outputs": [
    {
     "data": {
      "text/plain": [
       "Accumulator<id=3, value=6>"
      ]
     },
     "execution_count": 6,
     "metadata": {},
     "output_type": "execute_result"
    }
   ],
   "source": [
    "err_count=sc.accumulator(0)\n",
    "def processLog(line):\n",
    "    global err_count\n",
    "    if \"ERROR\" in line:\n",
    "        err_count+=1\n",
    "    return line    \n",
    "logFile.map(processLog).saveAsTextFile(\"file:///E:/Eclipse_Android_workspaces/ApacheSpark/data/outSample\")\n",
    "err_count"
   ]
  }
 ],
 "metadata": {
  "kernelspec": {
   "display_name": "Python 3",
   "language": "python",
   "name": "python3"
  },
  "language_info": {
   "codemirror_mode": {
    "name": "ipython",
    "version": 3
   },
   "file_extension": ".py",
   "mimetype": "text/x-python",
   "name": "python",
   "nbconvert_exporter": "python",
   "pygments_lexer": "ipython3",
   "version": "3.6.2"
  }
 },
 "nbformat": 4,
 "nbformat_minor": 2
}
