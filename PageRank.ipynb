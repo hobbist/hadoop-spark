{
 "cells": [
  {
   "cell_type": "code",
   "execution_count": 1,
   "metadata": {},
   "outputs": [],
   "source": [
    "initData=sc.textFile(\"file:///E:/Eclipse_Android_workspaces/ApacheSpark/data/web-NotreDame.txt\")\n",
    "initData=initData.filter(lambda x:\"#\" not in x).map(lambda x:x.split(\"\\t\"))\n",
    "##.map(lambda x:(x[0],x[1]))\n",
    "links=initData.groupByKey().cache()"
   ]
  },
  {
   "cell_type": "code",
   "execution_count": 3,
   "metadata": {},
   "outputs": [
    {
     "name": "stdout",
     "output_type": "stream",
     "text": [
      "rank of link 1 is 30620.55\n",
      "rank of link 3 is 9308.967499999999\n",
      "rank of link 8 is 5878.5374999999985\n",
      "rank of link 9 is 3670.5775\n",
      "rank of link 6 is 2886.665\n",
      "rank of link 7 is 2837.535\n",
      "rank of link 4 is 2133.8199999999997\n",
      "rank of link 5 is 2065.1825\n",
      "rank of link 0 is 1.0\n"
     ]
    }
   ],
   "source": [
    "def computeShare(urls,rank):\n",
    "    contri=[]\n",
    "    num_urls=len(urls)\n",
    "    for url in urls:\n",
    "        contri.append((url,rank/num_urls))\n",
    "    return contri\n",
    "ranks=links.map(lambda x:(x[0],1.0))\n",
    "for i in range(2):\n",
    "    joined=links.join(ranks).flatMap(lambda x:computeShare(x[0][0],x[1][1]))\n",
    "    ranks = joined.reduceByKey(lambda x,y:x+y).mapValues(lambda rank:(rank*0.85+0.15))\n",
    "for (link,rank) in ranks.sortBy(lambda x:-x[1]).take(10):\n",
    "    print(\"rank of link \"+ link +\" is \"+str(rank))                                     "
   ]
  }
 ],
 "metadata": {
  "kernelspec": {
   "display_name": "Python 3",
   "language": "python",
   "name": "python3"
  },
  "language_info": {
   "codemirror_mode": {
    "name": "ipython",
    "version": 3
   },
   "file_extension": ".py",
   "mimetype": "text/x-python",
   "name": "python",
   "nbconvert_exporter": "python",
   "pygments_lexer": "ipython3",
   "version": "3.6.2"
  }
 },
 "nbformat": 4,
 "nbformat_minor": 2
}
